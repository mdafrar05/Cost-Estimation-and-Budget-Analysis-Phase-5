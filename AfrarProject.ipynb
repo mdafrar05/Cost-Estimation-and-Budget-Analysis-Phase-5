{
  "nbformat": 4,
  "nbformat_minor": 0,
  "metadata": {
    "colab": {
      "provenance": [],
      "authorship_tag": "ABX9TyPpviiuYr+XeFOzGxZhy2su",
      "include_colab_link": true
    },
    "kernelspec": {
      "name": "python3",
      "display_name": "Python 3"
    },
    "language_info": {
      "name": "python"
    }
  },
  "cells": [
    {
      "cell_type": "markdown",
      "metadata": {
        "id": "view-in-github",
        "colab_type": "text"
      },
      "source": [
        "<a href=\"https://colab.research.google.com/github/mdafrar05/Cost-Estimation-and-Budget-Analysis-Phase-5/blob/main/AfrarProject.ipynb\" target=\"_parent\"><img src=\"https://colab.research.google.com/assets/colab-badge.svg\" alt=\"Open In Colab\"/></a>"
      ]
    },
    {
      "cell_type": "code",
      "execution_count": null,
      "metadata": {
        "id": "OWWnOqVO8typ"
      },
      "outputs": [],
      "source": [
        "# Sample Streamlit Cost Estimation Tool\n",
        "import streamlit as st\n",
        "import pandas as pd\n",
        "import matplotlib.pyplot as plt\n",
        "st.title(\"Cost Estimation and Budget Analysis\")\n",
        "categories = st.text_area(\"Enter categories (comma-separated):\", \"Raw Materials, Labor, Overheads, Marketing, Contingency\")\n",
        "category_list = [x.strip() for x in categories.split(',')]\n",
        "estimated = []\n",
        "actual = []\n",
        "st.header(\"Enter Estimated and Actual Costs:\")\n",
        "for cat in category_list:\n",
        "est = st.number_input(f\"Estimated cost for {cat}:\", min_value=0)\n",
        "act = st.number_input(f\"Actual cost for {cat}:\", min_value=0)\n",
        "estimated.append(est)\n",
        "actual.append(act)\n",
        "df = pd.DataFrame({\n",
        "'Category': category_list,\n",
        "'Estimated Cost': estimated,\n",
        "'Actual Cost': actual\n",
        "})\n",
        "st.subheader(\"Cost Comparison Table\")\n",
        "st.dataframe(df)\n",
        "# Bar chart\n",
        "st.subheader(\"Cost Comparison Chart\")\n",
        "fig, ax = plt.subplots()\n",
        "bar_width = 0.35\n",
        "index = range(len(category_list))\n",
        "ax.bar(index, estimated, bar_width, label='Estimated', color='skyblue')\n",
        "ax.bar([i + bar_width for i in index], actual, bar_width, label='Actual', color='salmon')\n",
        "ax.set_xticks([i + bar_width / 2 for i in index])\n",
        "ax.set_xticklabels(category_list, rotation=45)\n",
        "ax.legend()\n",
        "st.pyplot(fig)\n",
        "8. Output and"
      ]
    }
  ]
}